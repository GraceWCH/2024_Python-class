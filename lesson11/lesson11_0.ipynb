{
 "cells": [
  {
   "cell_type": "code",
   "execution_count": 1,
   "metadata": {},
   "outputs": [
    {
     "ename": "UnboundLocalError",
     "evalue": "local variable 'list' referenced before assignment",
     "output_type": "error",
     "traceback": [
      "\u001b[0;31m---------------------------------------------------------------------------\u001b[0m",
      "\u001b[0;31mUnboundLocalError\u001b[0m                         Traceback (most recent call last)",
      "Cell \u001b[0;32mIn[1], line 22\u001b[0m\n\u001b[1;32m     19\u001b[0m \t\t\tpprint(d, indent\u001b[38;5;241m=\u001b[39m\u001b[38;5;241m2\u001b[39m, sort_dicts\u001b[38;5;241m=\u001b[39m\u001b[38;5;28;01mFalse\u001b[39;00m)\n\u001b[1;32m     21\u001b[0m \u001b[38;5;28;01mif\u001b[39;00m \u001b[38;5;18m__name__\u001b[39m \u001b[38;5;241m==\u001b[39m \u001b[38;5;124m\"\u001b[39m\u001b[38;5;124m__main__\u001b[39m\u001b[38;5;124m\"\u001b[39m:\n\u001b[0;32m---> 22\u001b[0m \t\u001b[43mmain\u001b[49m\u001b[43m(\u001b[49m\u001b[43m)\u001b[49m\n",
      "Cell \u001b[0;32mIn[1], line 10\u001b[0m, in \u001b[0;36mmain\u001b[0;34m()\u001b[0m\n\u001b[1;32m      8\u001b[0m \u001b[38;5;28;01mwith\u001b[39;00m \u001b[38;5;28mopen\u001b[39m(fname, encoding\u001b[38;5;241m=\u001b[39m\u001b[38;5;124m\"\u001b[39m\u001b[38;5;124mUTF-8\u001b[39m\u001b[38;5;124m\"\u001b[39m, newline\u001b[38;5;241m=\u001b[39m\u001b[38;5;124m'\u001b[39m\u001b[38;5;124m'\u001b[39m) \u001b[38;5;28;01mas\u001b[39;00m f:\n\u001b[1;32m      9\u001b[0m \treader \u001b[38;5;241m=\u001b[39m csv\u001b[38;5;241m.\u001b[39mDictReader(f)\n\u001b[0;32m---> 10\u001b[0m \t\u001b[38;5;28mlist\u001b[39m:\u001b[38;5;28mlist\u001b[39m(\u001b[38;5;28mdict\u001b[39m) \u001b[38;5;241m=\u001b[39m \u001b[38;5;28;43mlist\u001b[39;49m(reader)\n\u001b[1;32m     11\u001b[0m \t\u001b[38;5;28mprint\u001b[39m(\u001b[38;5;28mstr\u001b[39m\u001b[38;5;241m.\u001b[39mformat(\u001b[38;5;124m\"\u001b[39m\u001b[38;5;132;01m{}\u001b[39;00m\u001b[38;5;124m共有 \u001b[39m\u001b[38;5;132;01m{}\u001b[39;00m\u001b[38;5;124m 筆資料\u001b[39m\u001b[38;5;124m\"\u001b[39m, fname\u001b[38;5;241m.\u001b[39mremovesuffix(\u001b[38;5;124m\"\u001b[39m\u001b[38;5;124m.csv\u001b[39m\u001b[38;5;124m\"\u001b[39m), \u001b[38;5;28mlen\u001b[39m(lst)))\n\u001b[1;32m     12\u001b[0m \t\u001b[38;5;66;03m# Too much data, just show some to demonstration\u001b[39;00m\n",
      "\u001b[0;31mUnboundLocalError\u001b[0m: local variable 'list' referenced before assignment"
     ]
    }
   ],
   "source": [
    "import csv\n",
    "from csv import DictReader\n",
    "from pprint import pprint\n",
    "from random import choices\n",
    "from pprint import pprint\n",
    "def main():\n",
    "\tfname = \"個股日成交資訊.csv\"\n",
    "\twith open(fname, encoding=\"UTF-8\", newline='') as f:\n",
    "\t\treader = csv.DictReader(f)\n",
    "\t\tlist:list(dict) = list(reader)\n",
    "\t\tprint(str.format(\"{}共有 {} 筆資料\", fname.removesuffix(\".csv\"), len(lst)))\n",
    "\t\t# Too much data, just show some to demonstration\n",
    "\t\tn = pyip.inputInt(\"請輸入要隨機顯示的資料數(1~20): \", min=1, max=20)\n",
    "\t\tlst_2 = choices(lst, k=n)\n",
    "\t\tfor d in lst_2:\n",
    "\t\t\t# Get index of complete data\n",
    "\t\t\tidx = lst.index(d)\n",
    "\t\t\tprint(f\"#{idx}\")\n",
    "\t\t\tpprint(d, indent=2, sort_dicts=False)\n",
    "\n",
    "if __name__ == \"__main__\":\n",
    "\tmain()"
   ]
  },
  {
   "cell_type": "code",
   "execution_count": 2,
   "metadata": {},
   "outputs": [
    {
     "name": "stdout",
     "output_type": "stream",
     "text": [
      "個股日成交資訊共有 1113 筆資料\n",
      "請輸入要隨機顯示的資料數(1~20): #340\n",
      "{ '證券代號': '1903',\n",
      "  '證券名稱': '士紙',\n",
      "  '成交股數': '84,087',\n",
      "  '成交金額': '2,180,964',\n",
      "  '開盤價': '26.45',\n",
      "  '最高價': '27.00',\n",
      "  '最低價': '25.45',\n",
      "  '收盤價': '27.00',\n",
      "  '漲跌價差': '+0.55',\n",
      "  '成交筆數': '78'}\n",
      "#815\n",
      "{ '證券代號': '4540',\n",
      "  '證券名稱': '全球傳動',\n",
      "  '成交股數': '377,080',\n",
      "  '成交金額': '14,751,559',\n",
      "  '開盤價': '38.80',\n",
      "  '最高價': '40.10',\n",
      "  '最低價': '38.05',\n",
      "  '收盤價': '38.20',\n",
      "  '漲跌價差': '-0.10',\n",
      "  '成交筆數': '288'}\n",
      "#276\n",
      "{ '證券代號': '1582',\n",
      "  '證券名稱': '信錦',\n",
      "  '成交股數': '856,706',\n",
      "  '成交金額': '57,451,337',\n",
      "  '開盤價': '68.00',\n",
      "  '最高價': '68.40',\n",
      "  '最低價': '66.20',\n",
      "  '收盤價': '66.20',\n",
      "  '漲跌價差': '-1.80',\n",
      "  '成交筆數': '789'}\n",
      "#258\n",
      "{ '證券代號': '1526',\n",
      "  '證券名稱': '日馳',\n",
      "  '成交股數': '480,955',\n",
      "  '成交金額': '7,169,770',\n",
      "  '開盤價': '14.95',\n",
      "  '最高價': '15.20',\n",
      "  '最低價': '14.55',\n",
      "  '收盤價': '14.60',\n",
      "  '漲跌價差': '+0.10',\n",
      "  '成交筆數': '308'}\n",
      "#590\n",
      "{ '證券代號': '2702',\n",
      "  '證券名稱': '華園',\n",
      "  '成交股數': '615,896',\n",
      "  '成交金額': '6,757,868',\n",
      "  '開盤價': '11.65',\n",
      "  '最高價': '11.85',\n",
      "  '最低價': '10.35',\n",
      "  '收盤價': '10.45',\n",
      "  '漲跌價差': '-1.05',\n",
      "  '成交筆數': '327'}\n"
     ]
    }
   ],
   "source": [
    "import csv\n",
    "from csv import DictReader\n",
    "import pyinputplus as pyip\n",
    "from random import choices\n",
    "from pprint import pprint\n",
    "\n",
    "def main():\n",
    "    fname = \"個股日成交資訊.csv\"\n",
    "    with open(fname, encoding=\"UTF-8\", newline='') as f:\n",
    "        reader:DictReader = csv.DictReader(f)\n",
    "        lst:list[dict] = list(reader)\n",
    "        print(str.format(\"{}共有 {} 筆資料\", fname.removesuffix(\".csv\"), len(lst)))\n",
    "        n = pyip.inputInt(\"請輸入要隨機顯示的資料數(1~20): \", min=1, max=20)\n",
    "        lst_2:list[dict] = choices(lst, k=n)\n",
    "        for d in lst_2:\n",
    "             idx = lst.index(d)\n",
    "             print(f\"#{idx}\")\n",
    "             pprint(d, indent=2, sort_dicts=False)\n",
    "\n",
    "\n",
    "\n",
    "if  __name__ == '__main__':\n",
    "\tmain()"
   ]
  }
 ],
 "metadata": {
  "kernelspec": {
   "display_name": "Python 3",
   "language": "python",
   "name": "python3"
  },
  "language_info": {
   "codemirror_mode": {
    "name": "ipython",
    "version": 3
   },
   "file_extension": ".py",
   "mimetype": "text/x-python",
   "name": "python",
   "nbconvert_exporter": "python",
   "pygments_lexer": "ipython3",
   "version": "3.10.14"
  }
 },
 "nbformat": 4,
 "nbformat_minor": 2
}
