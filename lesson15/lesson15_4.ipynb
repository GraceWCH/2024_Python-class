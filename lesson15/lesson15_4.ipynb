{
 "cells": [
  {
   "cell_type": "code",
   "execution_count": 11,
   "metadata": {},
   "outputs": [
    {
     "name": "stdout",
     "output_type": "stream",
     "text": [
      "[[ 83  55  82 100  80]\n",
      " [ 61  91  99  58  69]\n",
      " [ 91  82  93  70  70]\n",
      " [ 64  75  90  75  71]\n",
      " [ 82  99  81  90  91]\n",
      " [ 58  93  99  64  83]\n",
      " [ 92  86  89  62  76]\n",
      " [ 68  89  60  52  94]\n",
      " [ 57  57  91  89  95]\n",
      " [ 67 100  62  55  56]\n",
      " [ 52  55  65 100  99]\n",
      " [ 95  91  63  86  50]\n",
      " [ 81  99  63  62  68]\n",
      " [ 93  92  66  54  80]\n",
      " [ 62  77  72  60  64]\n",
      " [ 63  84  81  67  66]\n",
      " [ 56  95  80  86  90]\n",
      " [ 88  73  64  87  73]\n",
      " [ 66  87  77  73  98]\n",
      " [ 68  53  93  63  65]\n",
      " [ 65  52  94  57  70]\n",
      " [ 66  86  89  68  93]\n",
      " [ 93  55  55  51  72]\n",
      " [ 55  67  70  84  87]\n",
      " [ 95  61  94  64  71]\n",
      " [ 96  98  91  69  79]\n",
      " [ 72  71  55  82  86]\n",
      " [ 80  59  79  82  81]\n",
      " [ 81  60  52  82  92]\n",
      " [ 99  81  66  88  73]\n",
      " [ 54  81  53  55  82]\n",
      " [ 96  99  85  87  91]\n",
      " [ 85  69  77  52  58]\n",
      " [ 64  90 100  73  92]\n",
      " [ 61  80  73  77 100]\n",
      " [ 67  67  84  68  83]\n",
      " [ 56  94  88  83  63]\n",
      " [ 76  74  53  98  99]\n",
      " [ 70  77  61  76  79]\n",
      " [ 59  83  50  68  84]\n",
      " [ 68  90  92  66  60]\n",
      " [ 62  79  97  56  80]\n",
      " [ 55  90  51  96  94]\n",
      " [ 91  79  58  68  60]\n",
      " [ 72  97  53  97  69]\n",
      " [ 65  81  93  54  94]\n",
      " [ 61  73  89  70  61]\n",
      " [ 78  65  94  63  65]\n",
      " [ 85  51  68  59  94]\n",
      " [ 77  72  76  53  89]]\n"
     ]
    }
   ],
   "source": [
    "import numpy as np\n",
    "students = np.random.randint(50, 101, size=(50,5))\n",
    "print(students)"
   ]
  },
  {
   "cell_type": "code",
   "execution_count": 9,
   "metadata": {},
   "outputs": [
    {
     "data": {
      "text/plain": [
       "array([[57, 71, 52, 79, 60],\n",
       "       [72, 97, 83, 73, 61],\n",
       "       [76, 75, 85, 53, 90],\n",
       "       [91, 84, 85, 84, 67],\n",
       "       [52, 97, 65, 86, 61]])"
      ]
     },
     "execution_count": 9,
     "metadata": {},
     "output_type": "execute_result"
    }
   ],
   "source": [
    "students[0,0]\n",
    "students[:1,:]\n",
    "students[:1] #前一個學生\n",
    "students[:2] #前2個學生\n",
    "students[-5:] #最後5個學生"
   ]
  },
  {
   "cell_type": "code",
   "execution_count": 13,
   "metadata": {},
   "outputs": [
    {
     "data": {
      "text/plain": [
       "array([ 80,  69,  70,  71,  91,  83,  76,  94,  95,  56,  99,  50,  68,\n",
       "        80,  64,  66,  90,  73,  98,  65,  70,  93,  72,  87,  71,  79,\n",
       "        86,  81,  92,  73,  82,  91,  58,  92, 100,  83,  63,  99,  79,\n",
       "        84,  60,  80,  94,  60,  69,  94,  61,  65,  94,  89])"
      ]
     },
     "execution_count": 13,
     "metadata": {},
     "output_type": "execute_result"
    }
   ],
   "source": [
    "students[:,0]   #第一科所有的分數\n",
    "students[:,-1]   #最後一科所有的分數"
   ]
  },
  {
   "cell_type": "code",
   "execution_count": 16,
   "metadata": {},
   "outputs": [
    {
     "data": {
      "text/plain": [
       "array([68. , 80.5, 78. , 68.5, 80. ])"
      ]
     },
     "execution_count": 16,
     "metadata": {},
     "output_type": "execute_result"
    }
   ],
   "source": [
    "np.sum(students[:1])  #第一個學生的總分\n",
    "np.sum(students[:2], axis=1)  #前2個學生的總分\n",
    "np.sum(students, axis=1)  #全班每位學生的總分\n",
    "np.mean(students, axis=0)  #每一科全班的平均\n",
    "np.median(students, axis=0)  #每一科全班的中位數"
   ]
  }
 ],
 "metadata": {
  "kernelspec": {
   "display_name": "Python 3",
   "language": "python",
   "name": "python3"
  },
  "language_info": {
   "codemirror_mode": {
    "name": "ipython",
    "version": 3
   },
   "file_extension": ".py",
   "mimetype": "text/x-python",
   "name": "python",
   "nbconvert_exporter": "python",
   "pygments_lexer": "ipython3",
   "version": "3.10.14"
  }
 },
 "nbformat": 4,
 "nbformat_minor": 2
}
