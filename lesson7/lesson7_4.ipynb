{
 "cells": [
  {
   "cell_type": "code",
   "execution_count": 1,
   "metadata": {},
   "outputs": [
    {
     "name": "stdout",
     "output_type": "stream",
     "text": [
      "9\n",
      "==========猜數字遊戲========\n",
      "\n",
      "猜數字範圍1~10:4\n",
      "再大一點\n",
      "您已經猜了1次\n",
      "猜數字範圍5~10:5\n",
      "再大一點\n",
      "您已經猜了2次\n",
      "猜數字範圍6~10:6\n",
      "再大一點\n",
      "您已經猜了3次\n",
      "猜數字範圍7~10:7\n",
      "再大一點\n",
      "您已經猜了4次\n",
      "猜數字範圍8~10:8\n",
      "再大一點\n",
      "您已經猜了5次\n",
      "猜數字範圍9~10:9\n",
      "bingo, 答案是:9\n",
      "你猜了6次\n",
      "請問還要繼續嗎?(y,n)'10' is not a valid yes/no response.\n",
      "請問還要繼續嗎?(y,n)9\n",
      "==========猜數字遊戲========\n",
      "\n",
      "猜數字範圍1~10:5\n",
      "再大一點\n",
      "您已經猜了1次\n",
      "猜數字範圍6~10:7\n",
      "再大一點\n",
      "您已經猜了2次\n",
      "猜數字範圍8~10:Number must be at minimum 8.\n",
      "猜數字範圍8~10:8\n",
      "再大一點\n",
      "您已經猜了3次\n",
      "猜數字範圍9~10:Number must be at minimum 9.\n",
      "猜數字範圍9~10:9\n",
      "bingo, 答案是:9\n",
      "你猜了4次\n",
      "請問還要繼續嗎?(y,n)遊戲結束\n"
     ]
    }
   ],
   "source": [
    "import random\n",
    "import pyinputplus as pypi\n",
    "\n",
    "while(True):\n",
    "    min:int = 1\n",
    "    max:int = 10\n",
    "    count:int = 0\n",
    "\n",
    "    target:int = random.randint(min,max)\n",
    "    print(target)\n",
    "    print(\"==========猜數字遊戲========\\n\")\n",
    "    while(True):\n",
    "        keyin:int = pypi.inputInt(f\"猜數字範圍{min}~{max}:\",min=min,max=max)\n",
    "        print(keyin)\n",
    "        count += 1\n",
    "        if keyin == target:\n",
    "            print(f\"bingo, 答案是:{keyin}\")\n",
    "            print(f\"你猜了{count}次\")\n",
    "            break\n",
    "        elif(keyin > target):\n",
    "            print(f\"再小一點\")\n",
    "            max = keyin - 1 \n",
    "        elif(keyin < target):\n",
    "            print(f\"再大一點\")\n",
    "            min = keyin + 1\n",
    "        print(f\"您已經猜了{count}次\")\n",
    "    play_again:str = pypi.inputYesNo(\"請問還要繼續嗎?(y,n)\")\n",
    "    if play_again == \"no\":\n",
    "        break\n",
    "\n",
    "print(\"遊戲結束\")"
   ]
  }
 ],
 "metadata": {
  "kernelspec": {
   "display_name": "Python 3",
   "language": "python",
   "name": "python3"
  },
  "language_info": {
   "codemirror_mode": {
    "name": "ipython",
    "version": 3
   },
   "file_extension": ".py",
   "mimetype": "text/x-python",
   "name": "python",
   "nbconvert_exporter": "python",
   "pygments_lexer": "ipython3",
   "version": "3.10.14"
  }
 },
 "nbformat": 4,
 "nbformat_minor": 2
}
