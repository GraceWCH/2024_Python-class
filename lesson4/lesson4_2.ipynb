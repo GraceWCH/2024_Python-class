{
 "cells": [
  {
   "cell_type": "code",
   "execution_count": 1,
   "metadata": {},
   "outputs": [
    {
     "data": {
      "text/plain": [
       "False"
      ]
     },
     "execution_count": 1,
     "metadata": {},
     "output_type": "execute_result"
    }
   ],
   "source": [
    "3 > 5 "
   ]
  },
  {
   "cell_type": "code",
   "execution_count": 2,
   "metadata": {},
   "outputs": [
    {
     "data": {
      "text/plain": [
       "True"
      ]
     },
     "execution_count": 2,
     "metadata": {},
     "output_type": "execute_result"
    }
   ],
   "source": [
    "5 >= 5"
   ]
  },
  {
   "cell_type": "code",
   "execution_count": 3,
   "metadata": {},
   "outputs": [
    {
     "data": {
      "text/plain": [
       "False"
      ]
     },
     "execution_count": 3,
     "metadata": {},
     "output_type": "execute_result"
    }
   ],
   "source": [
    "5 == 3"
   ]
  },
  {
   "cell_type": "code",
   "execution_count": 4,
   "metadata": {},
   "outputs": [
    {
     "data": {
      "text/plain": [
       "False"
      ]
     },
     "execution_count": 4,
     "metadata": {},
     "output_type": "execute_result"
    }
   ],
   "source": [
    "3 != 3"
   ]
  },
  {
   "cell_type": "code",
   "execution_count": 7,
   "metadata": {},
   "outputs": [
    {
     "name": "stdout",
     "output_type": "stream",
     "text": [
      "可以考駕照\n",
      "有投票權\n",
      "應用程式結束\n"
     ]
    }
   ],
   "source": [
    "age = 20\n",
    "\n",
    "#單一程式區塊\n",
    "if age  >= 18: \n",
    "    print(\"可以考駕照\")\n",
    "    print(\"有投票權\")\n",
    "print(\"應用程式結束\")"
   ]
  },
  {
   "cell_type": "code",
   "execution_count": 9,
   "metadata": {},
   "outputs": [
    {
     "name": "stdout",
     "output_type": "stream",
     "text": [
      "未成年\n",
      "應用程式結束\n"
     ]
    }
   ],
   "source": [
    "age = 17\n",
    "\n",
    "#雙程式區塊\n",
    "if age  >= 18: \n",
    "    print(\"可以考駕照\")\n",
    "    print(\"有投票權\")\n",
    "else:\n",
    "    print(\"未成年\")\n",
    "\n",
    "print(\"應用程式結束\")"
   ]
  },
  {
   "cell_type": "code",
   "execution_count": 3,
   "metadata": {},
   "outputs": [
    {
     "name": "stdout",
     "output_type": "stream",
     "text": [
      "您的姓名是:Grace\n",
      "您的BMI值是:22.2\n"
     ]
    }
   ],
   "source": [
    "#BMI值\n",
    "\n",
    "name = input(\"請輸入您的姓名\") \n",
    "height = float(input(\"請輸入您的身高(cm)\"))\n",
    "weight = float(input(\"請輸入您的體重(kg)\"))\n",
    "\n",
    "BMI = float(weight/(height/100)**2)\n",
    "\n",
    "print(f\"您的姓名是:{name}\")\n",
    "print(f\"您的BMI值是:{round(BMI,ndigits=1)}\")"
   ]
  },
  {
   "cell_type": "code",
   "execution_count": 4,
   "metadata": {},
   "outputs": [
    {
     "name": "stdout",
     "output_type": "stream",
     "text": [
      "您的姓名是:test\n",
      "您的BMI值是:20.1\n",
      "您的體重:正常\n"
     ]
    }
   ],
   "source": [
    "#BMI值\n",
    "\n",
    "name = input(\"請輸入您的姓名\") \n",
    "height = float(input(\"請輸入您的身高(cm)\"))\n",
    "weight = float(input(\"請輸入您的體重(kg)\"))\n",
    "\n",
    "BMI = float(weight/(height/100)**2)\n",
    "if BMI < 18.5: \n",
    "    value = \"過輕\"\n",
    "elif BMI > 18.5 and BMI < 24:\n",
    "    value = \"正常\"\n",
    "elif BMI < 27:\n",
    "    value = \"過重\"\n",
    "elif BMI < 30:\n",
    "    value = \"輕度肥胖\"\n",
    "elif BMI < 35:\n",
    "    value = \"中度肥胖\"\n",
    "else:\n",
    "    value = \"重度肥胖\"\n",
    "\n",
    "print(f\"您的姓名是:{name}\")\n",
    "print(f\"您的BMI值是:{round(BMI,ndigits=1)}\")\n",
    "print(f\"您的體重:{value}\")"
   ]
  },
  {
   "cell_type": "code",
   "execution_count": 6,
   "metadata": {},
   "outputs": [
    {
     "name": "stdout",
     "output_type": "stream",
     "text": [
      "您的姓名是:test\n"
     ]
    },
    {
     "ename": "NameError",
     "evalue": "name 'BMI' is not defined",
     "output_type": "error",
     "traceback": [
      "\u001b[0;31m---------------------------------------------------------------------------\u001b[0m",
      "\u001b[0;31mNameError\u001b[0m                                 Traceback (most recent call last)",
      "Cell \u001b[0;32mIn[6], line 30\u001b[0m\n\u001b[1;32m     28\u001b[0m bmi:\u001b[38;5;28mfloat\u001b[39m\u001b[38;5;241m=\u001b[39mcal_bmi(height,weight)\n\u001b[1;32m     29\u001b[0m \u001b[38;5;28mprint\u001b[39m(\u001b[38;5;124mf\u001b[39m\u001b[38;5;124m\"\u001b[39m\u001b[38;5;124m您的姓名是:\u001b[39m\u001b[38;5;132;01m{\u001b[39;00mname\u001b[38;5;132;01m}\u001b[39;00m\u001b[38;5;124m\"\u001b[39m)\n\u001b[0;32m---> 30\u001b[0m \u001b[38;5;28mprint\u001b[39m(\u001b[38;5;124mf\u001b[39m\u001b[38;5;124m\"\u001b[39m\u001b[38;5;124m您的BMI值是:\u001b[39m\u001b[38;5;132;01m{\u001b[39;00m\u001b[38;5;28mround\u001b[39m(\u001b[43mBMI\u001b[49m,ndigits\u001b[38;5;241m=\u001b[39m\u001b[38;5;241m1\u001b[39m)\u001b[38;5;132;01m}\u001b[39;00m\u001b[38;5;124m\"\u001b[39m)\n\u001b[1;32m     31\u001b[0m \u001b[38;5;28mprint\u001b[39m(\u001b[38;5;124mf\u001b[39m\u001b[38;5;124m\"\u001b[39m\u001b[38;5;124m您的體重:\u001b[39m\u001b[38;5;132;01m{\u001b[39;00mvalue\u001b[38;5;132;01m}\u001b[39;00m\u001b[38;5;124m\"\u001b[39m)\n",
      "\u001b[0;31mNameError\u001b[0m: name 'BMI' is not defined"
     ]
    }
   ],
   "source": [
    "#BMI值\n",
    "\n",
    "import pyinputplus as pypi\n",
    "\n",
    "def cal_bmi(height:int,weight:int) -> float:\n",
    "    BMI = float(weight/(height/100)**2)\n",
    "    return BMI\n",
    "\n",
    "def get_status(bmi:float)->str:\n",
    "    if BMI < 18.5: \n",
    "        value = \"過輕\"\n",
    "    elif BMI > 18.5 and BMI < 24:\n",
    "        value = \"正常\"\n",
    "    elif BMI < 27:\n",
    "        value = \"過重\"\n",
    "    elif BMI < 30:\n",
    "        value = \"輕度肥胖\"\n",
    "    elif BMI < 35:\n",
    "        value = \"中度肥胖\"\n",
    "    else:\n",
    "        value = \"重度肥胖\"\n",
    "    return value\n",
    "\n",
    "\n",
    "name = input(\"請輸入您的姓名\") \n",
    "height = float(input(\"請輸入您的身高(cm)\"))\n",
    "weight = float(input(\"請輸入您的體重(kg)\"))\n",
    "\n",
    "bmi:float=cal_bmi(height,weight)\n",
    "print(f\"您的姓名是:{name}\")\n",
    "print(f\"您的BMI值是:{round(BMI,ndigits=1)}\")\n",
    "print(f\"您的體重:{value}\")"
   ]
  },
  {
   "cell_type": "code",
   "execution_count": 2,
   "metadata": {},
   "outputs": [
    {
     "ename": "NameError",
     "evalue": "name 'BMI' is not defined",
     "output_type": "error",
     "traceback": [
      "\u001b[0;31m---------------------------------------------------------------------------\u001b[0m",
      "\u001b[0;31mNameError\u001b[0m                                 Traceback (most recent call last)",
      "Cell \u001b[0;32mIn[2], line 39\u001b[0m\n\u001b[1;32m     33\u001b[0m \u001b[38;5;28;01mif\u001b[39;00m \u001b[38;5;18m__name__\u001b[39m \u001b[38;5;241m==\u001b[39m \u001b[38;5;124m\"\u001b[39m\u001b[38;5;124m__main__\u001b[39m\u001b[38;5;124m\"\u001b[39m:\n\u001b[1;32m     34\u001b[0m \u001b[38;5;250m    \u001b[39m\u001b[38;5;124;03m'''\u001b[39;00m\n\u001b[1;32m     35\u001b[0m \u001b[38;5;124;03m    print(\"我是被python執行的主程式\")\u001b[39;00m\n\u001b[1;32m     36\u001b[0m \u001b[38;5;124;03m    print(__name__)\u001b[39;00m\n\u001b[1;32m     37\u001b[0m \u001b[38;5;124;03m    print(type(__name__)\u001b[39;00m\n\u001b[1;32m     38\u001b[0m \u001b[38;5;124;03m    '''\u001b[39;00m\n\u001b[0;32m---> 39\u001b[0m     \u001b[43mmain\u001b[49m\u001b[43m(\u001b[49m\u001b[43m)\u001b[49m\n",
      "Cell \u001b[0;32mIn[2], line 30\u001b[0m, in \u001b[0;36mmain\u001b[0;34m()\u001b[0m\n\u001b[1;32m     27\u001b[0m weight \u001b[38;5;241m=\u001b[39m \u001b[38;5;28mfloat\u001b[39m(\u001b[38;5;28minput\u001b[39m(\u001b[38;5;124m\"\u001b[39m\u001b[38;5;124m請輸入您的體重(kg)\u001b[39m\u001b[38;5;124m\"\u001b[39m))\n\u001b[1;32m     29\u001b[0m BMI \u001b[38;5;241m=\u001b[39m cal_bmi(height\u001b[38;5;241m=\u001b[39mheight, weight\u001b[38;5;241m=\u001b[39mweight)\n\u001b[0;32m---> 30\u001b[0m value \u001b[38;5;241m=\u001b[39m \u001b[43mget_status\u001b[49m\u001b[43m(\u001b[49m\u001b[43mBMI\u001b[49m\u001b[43m)\u001b[49m\n\u001b[1;32m     31\u001b[0m \u001b[38;5;28mprint\u001b[39m(\u001b[38;5;124mf\u001b[39m\u001b[38;5;124m\"\u001b[39m\u001b[38;5;124m您的姓名是:\u001b[39m\u001b[38;5;132;01m{\u001b[39;00mname\u001b[38;5;132;01m}\u001b[39;00m\u001b[38;5;130;01m\\n\u001b[39;00m\u001b[38;5;124m您的BMI值是\u001b[39m\u001b[38;5;132;01m{\u001b[39;00mBMI\u001b[38;5;132;01m}\u001b[39;00m\u001b[38;5;130;01m\\n\u001b[39;00m\u001b[38;5;124m您屬於\u001b[39m\u001b[38;5;132;01m{\u001b[39;00mvalue\u001b[38;5;132;01m}\u001b[39;00m\u001b[38;5;124m範圍\u001b[39m\u001b[38;5;124m\"\u001b[39m)\n",
      "Cell \u001b[0;32mIn[2], line 12\u001b[0m, in \u001b[0;36mget_status\u001b[0;34m(bmi)\u001b[0m\n\u001b[1;32m     10\u001b[0m \u001b[38;5;28;01mif\u001b[39;00m bmi \u001b[38;5;241m<\u001b[39m \u001b[38;5;241m18.5\u001b[39m: \n\u001b[1;32m     11\u001b[0m     value \u001b[38;5;241m=\u001b[39m \u001b[38;5;124m\"\u001b[39m\u001b[38;5;124m過輕\u001b[39m\u001b[38;5;124m\"\u001b[39m\n\u001b[0;32m---> 12\u001b[0m \u001b[38;5;28;01melif\u001b[39;00m bmi \u001b[38;5;241m>\u001b[39m \u001b[38;5;241m18.5\u001b[39m \u001b[38;5;129;01mand\u001b[39;00m \u001b[43mBMI\u001b[49m \u001b[38;5;241m<\u001b[39m \u001b[38;5;241m24\u001b[39m:\n\u001b[1;32m     13\u001b[0m     value \u001b[38;5;241m=\u001b[39m \u001b[38;5;124m\"\u001b[39m\u001b[38;5;124m正常\u001b[39m\u001b[38;5;124m\"\u001b[39m\n\u001b[1;32m     14\u001b[0m \u001b[38;5;28;01melif\u001b[39;00m bmi \u001b[38;5;241m<\u001b[39m \u001b[38;5;241m27\u001b[39m:\n",
      "\u001b[0;31mNameError\u001b[0m: name 'BMI' is not defined"
     ]
    }
   ],
   "source": [
    "#BMI值  6月2日程式碼 main(主程式)\n",
    "\n",
    "import pyinputplus as pypi\n",
    "\n",
    "def cal_bmi(height:int,weight:int) -> float:\n",
    "    BMI = float(weight/(height/100)**2)\n",
    "    return BMI\n",
    "\n",
    "def get_status(bmi:float)->str:\n",
    "    if bmi < 18.5: \n",
    "        value = \"過輕\"\n",
    "    elif bmi > 18.5 and BMI < 24:\n",
    "        value = \"正常\"\n",
    "    elif bmi < 27:\n",
    "        value = \"過重\"\n",
    "    elif bmi < 30:\n",
    "        value = \"輕度肥胖\"\n",
    "    elif bmi < 35:\n",
    "        value = \"中度肥胖\"\n",
    "    else:\n",
    "        value = \"重度肥胖\"\n",
    "    return value\n",
    "\n",
    "def main()->None:\n",
    "    name = input(\"請輸入您的姓名\") \n",
    "    height = float(input(\"請輸入您的身高(cm)\"))\n",
    "    weight = float(input(\"請輸入您的體重(kg)\"))\n",
    "\n",
    "    BMI = cal_bmi(height=height, weight=weight)\n",
    "    value = get_status(BMI)\n",
    "    print(f\"您的姓名是:{name}\\n您的BMI值是{BMI}\\n您屬於{value}範圍\")\n",
    "\n",
    "if __name__ == \"__main__\":\n",
    "    '''\n",
    "    print(\"我是被python執行的主程式\")\n",
    "    print(__name__)\n",
    "    print(type(__name__)\n",
    "    '''\n",
    "    main()\n"
   ]
  }
 ],
 "metadata": {
  "kernelspec": {
   "display_name": "Python 3",
   "language": "python",
   "name": "python3"
  },
  "language_info": {
   "codemirror_mode": {
    "name": "ipython",
    "version": 3
   },
   "file_extension": ".py",
   "mimetype": "text/x-python",
   "name": "python",
   "nbconvert_exporter": "python",
   "pygments_lexer": "ipython3",
   "version": "3.10.14"
  }
 },
 "nbformat": 4,
 "nbformat_minor": 2
}
